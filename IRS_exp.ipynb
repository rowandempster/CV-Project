{
 "cells": [
  {
   "cell_type": "code",
   "execution_count": null,
   "metadata": {},
   "outputs": [],
   "source": [
    "# Load the IRS/lists/IRS_metal_test.list file into the IRSDataset\n",
    "# Construct a MonodepthLoss and visualize some of their unsupervised loss results under the GT disparities"
   ]
  }
 ],
 "metadata": {
  "language_info": {
   "name": "python"
  },
  "orig_nbformat": 4
 },
 "nbformat": 4,
 "nbformat_minor": 2
}
