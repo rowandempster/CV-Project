{
 "cells": [
  {
   "cell_type": "code",
   "execution_count": null,
   "metadata": {},
   "outputs": [],
   "source": [
    "import torch\n",
    "import torch.nn as nn\n",
    "import torchvision.models as models\n",
    "from typing import List\n",
    "\n",
    "class PerceptualLoss(nn.Module):\n",
    "    L0 = 0\n",
    "    L1 = 4\n",
    "    L2 = 9\n",
    "    L3 = 16\n",
    "    L4 = 30\n",
    "\n",
    "    def __init__(self, layers: List[int]):\n",
    "        super(PerceptualLoss, self).__init__()\n",
    "        self.layers = layers\n",
    "        vgg16 = models.vgg16(pretrained=True)\n",
    "        self.feat_seq = list(vgg16.named_children())[0][1]\n",
    "\n",
    "    def _compute_maps(self, imgs: torch.Tensor):\n",
    "        '''\n",
    "        Returns [N, M, C, H, W]\n",
    "        '''\n",
    "        maps = []\n",
    "        up = torch.nn.Upsample(size=)\n",
    "        H, W = imgs.shape[2:]\n",
    "        for layer_i, layer in self.layers:\n",
    "            if layer_i == 0:\n",
    "                maps.append(self.feat_seq[0:layer](imgs))\n",
    "            else:\n",
    "                prev_layer = self.layers[layer_i - 1]\n",
    "                prev_map = maps[layer_i - 1]\n",
    "                maps.append(self.feat_seq[prev_layer:layer](prev_map))\n",
    "        return torch.stack(maps, dim=1)\n",
    "\n",
    "\n",
    "\n",
    "    def forward(self, inputs: torch.Tensor, targets: torch.Tensor):\n",
    "        input_maps = \n",
    "\n"
   ]
  }
 ],
 "metadata": {
  "language_info": {
   "name": "python"
  },
  "orig_nbformat": 4
 },
 "nbformat": 4,
 "nbformat_minor": 2
}
